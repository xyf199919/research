{
 "cells": [
  {
   "cell_type": "code",
   "execution_count": 2,
   "metadata": {},
   "outputs": [],
   "source": [
    "%config IPCompleter.greedy=True\n",
    "%matplotlib inline\n",
    "\n",
    "\n",
    "import torch\n",
    "import os\n",
    "from torch.jit import script, trace\n",
    "import torch.nn as nn\n",
    "from torch import optim\n",
    "import torch.nn.functional as F\n",
    "import csv\n",
    "import random\n",
    "import re\n",
    "import itertools\n",
    "import math\n",
    "import pandas as pd\n",
    "import unicodedata\n",
    "import codecs\n",
    "import itertools\n",
    "\n",
    "\n",
    "\n",
    "import matplotlib\n",
    "import numpy as np\n",
    "import matplotlib.pyplot as plt\n",
    "\n",
    "from torch.utils.data import Dataset, DataLoader\n",
    "from torch.autograd import Variable\n",
    "import numpy as np\n"
   ]
  },
  {
   "cell_type": "code",
   "execution_count": 3,
   "metadata": {},
   "outputs": [],
   "source": [
    "CUDA = torch.cuda.is_available()\n",
    "device = torch.device(\"cuda\" if CUDA else \"cpu\")"
   ]
  },
  {
   "cell_type": "markdown",
   "metadata": {},
   "source": [
    "# DATA\n"
   ]
  },
  {
   "cell_type": "markdown",
   "metadata": {},
   "source": [
    "leave out validation set"
   ]
  },
  {
   "cell_type": "code",
   "execution_count": 9,
   "metadata": {},
   "outputs": [
    {
     "name": "stdout",
     "output_type": "stream",
     "text": [
      "input data selected\n"
     ]
    }
   ],
   "source": [
    "INPUT_SIZE = 2500\n",
    "TOKENS_TAKEN = 0\n",
    "\n",
    "xy = pd.read_csv('./prep_student_input.csv')\n",
    "z = pd.read_csv('./word_translations.csv')\n",
    "\n",
    "translations = {z['Italian'][i]: z['English'][i] for i in range(len(z))}\n",
    "\n",
    "randomindexes = [random.randint(0, INPUT_SIZE) for _ in range(INPUT_SIZE)]\n",
    "\n",
    "\n",
    "pastconvo = [xy['Past Convo'][randomindexes[i]] for i in range(len(randomindexes))]\n",
    "\n",
    "response = [xy['Tutor Response'][randomindexes[i]] for i in range(len(randomindexes))]\n",
    "\n",
    "\n",
    "#' '.join(pastconvo[i].split()[TOKENS_TAKEN:])\n",
    "pairs = [[pastconvo[i], response[i]] for i in range(len(pastconvo))]\n",
    "\n",
    "print(\"input data selected\")"
   ]
  },
  {
   "cell_type": "markdown",
   "metadata": {},
   "source": [
    "# VOCABUOLARY\n"
   ]
  },
  {
   "cell_type": "code",
   "execution_count": 10,
   "metadata": {},
   "outputs": [],
   "source": [
    "# Default word tokens\n",
    "PAD_token = 0  # Used for padding short sentences\n",
    "SOS_token = 1  # Start-of-sentence token\n",
    "EOS_token = 2  # End-of-sentence token\n",
    "\n",
    "class Vocabulary:\n",
    "    def __init__(self, name):\n",
    "        self.name = name\n",
    "        self.word2index = {}\n",
    "        self.word2count = {}\n",
    "        self.index2word = {PAD_token: \"PAD\", SOS_token: \"SOS\", EOS_token: \"EOS\"}\n",
    "        self.num_words = 3  # Count SOS, EOS, PAD\n",
    "\n",
    "    def addSentence(self, sentence):\n",
    "        for word in sentence.split(' '):\n",
    "            self.addWord(word)\n",
    "\n",
    "    def addWord(self, word):\n",
    "        if word not in self.word2index:\n",
    "            self.word2index[word] = self.num_words\n",
    "            self.word2count[word] = 1\n",
    "            self.index2word[self.num_words] = word\n",
    "            self.num_words += 1\n",
    "        else:\n",
    "            self.word2count[word] += 1\n",
    "\n",
    "    # Remove words below a certain count threshold # CHANGE probably shouldn't do this\n",
    "    def trim(self, min_count):\n",
    "        keep_words = []\n",
    "        for k, v in self.word2count.items():\n",
    "            if v >= min_count:\n",
    "                keep_words.append(k)        \n",
    "        print('keep_words {} / {} = {:.4f}'.format(\n",
    "            len(keep_words), len(self.word2index), len(keep_words) / len(self.word2index)\n",
    "        ))\n",
    "        # Reinitialize dictionaries\n",
    "        self.word2index = {}\n",
    "        self.word2count = {}\n",
    "        self.index2word = {PAD_token: \"PAD\", SOS_token: \"SOS\", EOS_token: \"EOS\"}\n",
    "        self.num_words = 3 # Count default tokens\n",
    "\n",
    "        for word in keep_words:\n",
    "            self.addWord(word)"
   ]
  },
  {
   "cell_type": "code",
   "execution_count": 11,
   "metadata": {},
   "outputs": [],
   "source": [
    "# make data simple\n",
    "def unicodeToAscii(s):\n",
    "    return ''.join(\n",
    "        c for c in unicodedata.normalize('NFD', s)\n",
    "        if unicodedata.category(c) != 'Mn'\n",
    "    )"
   ]
  },
  {
   "cell_type": "code",
   "execution_count": 12,
   "metadata": {},
   "outputs": [],
   "source": [
    "# Lowercase, trim, and remove non-letter characters\n",
    "def normalizeString(s):\n",
    "    s = unicodeToAscii(s.lower().strip())\n",
    "    s = re.sub(r\"([.!?])\", r\" \\1\", s)\n",
    "    s = re.sub(r\"[^a-zA-Z.!?]+\", r\" \", s)\n",
    "    s = re.sub(r\"\\s+\", r\" \", s).strip()\n",
    "    return s"
   ]
  },
  {
   "cell_type": "markdown",
   "metadata": {},
   "source": [
    "# creating vocab\n"
   ]
  },
  {
   "cell_type": "code",
   "execution_count": 13,
   "metadata": {},
   "outputs": [
    {
     "name": "stdout",
     "output_type": "stream",
     "text": [
      "counted words: 1014\n",
      "vocabulary created\n"
     ]
    }
   ],
   "source": [
    "pairs = [[normalizeString(line) for line in p] for p in pairs]\n",
    "\n",
    "\n",
    "pastwhole = pd.DataFrame(data=xy['Past Convo']).values.flatten().tolist()\n",
    "tutorwhole = pd.DataFrame(data=xy['Tutor Response']).values.flatten().tolist()\n",
    "\n",
    "pairs_whole = [[pastwhole[i], tutorwhole[i]] for i in range(len(pastwhole))]\n",
    "\n",
    "pairs_whole = [[normalizeString(line) for line in p] for p in pairs_whole]\n",
    "\n",
    "voc = Vocabulary(\"dialog\")\n",
    "\n",
    "\n",
    "\n",
    "#getting  rid of rare words\n",
    "for pair in pairs_whole:\n",
    "    voc.addSentence(pair[0])\n",
    "    voc.addSentence(pair[1])\n",
    "print(\"counted words:\", voc.num_words)\n",
    "print(\"vocabulary created\")\n"
   ]
  },
  {
   "cell_type": "markdown",
   "metadata": {},
   "source": [
    "# prepare data"
   ]
  },
  {
   "cell_type": "code",
   "execution_count": 99,
   "metadata": {},
   "outputs": [],
   "source": [
    "def indexesFromSentence(voc, sentence):\n",
    "    return [voc.word2index[word] for word in sentence.split(' ')] + [EOS_token]\n"
   ]
  },
  {
   "cell_type": "code",
   "execution_count": 100,
   "metadata": {},
   "outputs": [],
   "source": [
    "#make column consistent and transpose\n",
    "def zeroPadding(l, fillvalue= 0):\n",
    "    return list(itertools.zip_longest(*l, fillvalue=fillvalue))"
   ]
  },
  {
   "cell_type": "code",
   "execution_count": 101,
   "metadata": {},
   "outputs": [],
   "source": [
    "def binaryMatrix(l, value=0):\n",
    "    m = []\n",
    "    for i, seq in enumerate(l):\n",
    "        m.append([])\n",
    "        for token in seq:\n",
    "            if token == PAD_token:\n",
    "                m[i].append(0)\n",
    "            else:\n",
    "                m[i].append(1)\n",
    "    return m"
   ]
  },
  {
   "cell_type": "code",
   "execution_count": 102,
   "metadata": {},
   "outputs": [],
   "source": [
    "def inputVar(l, voc):\n",
    "    indexes_batch = [indexesFromSentence(voc, sentence) for sentence in l]\n",
    "    lengths = torch.tensor([len(indexes) for indexes in indexes_batch])\n",
    "    padList = zeroPadding(indexes_batch)\n",
    "    padVar = torch.LongTensor(padList)\n",
    "    return padVar, lengths\n",
    "\n",
    "# Returns padded target sequence tensor, padding mask, and max target length\n",
    "def outputVar(l, voc):\n",
    "    indexes_batch = [indexesFromSentence(voc, sentence) for sentence in l]\n",
    "    max_target_len = max([len(indexes) for indexes in indexes_batch])\n",
    "    padList = zeroPadding(indexes_batch)\n",
    "    mask = binaryMatrix(padList)\n",
    "    mask = torch.ByteTensor(mask)\n",
    "    padVar = torch.LongTensor(padList)\n",
    "    return padVar, mask, max_target_len\n",
    "\n",
    "# Returns all items for a given batch of pairs\n",
    "def batch2TrainData(voc, pair_batch):\n",
    "    pair_batch.sort(key=lambda x: len(x[0].split(\" \")), reverse=True)\n",
    "    input_batch, output_batch = [], []\n",
    "    for pair in pair_batch:\n",
    "        input_batch.append(pair[0])\n",
    "        \n",
    "        output_batch.append(pair[1])\n",
    "    inp, lengths = inputVar(input_batch, voc)\n",
    "    output, mask, max_target_len = outputVar(output_batch, voc)\n",
    "    return inp, lengths, output, mask, max_target_len, input_batch, output_batch"
   ]
  },
  {
   "cell_type": "markdown",
   "metadata": {},
   "source": [
    "# MODEL"
   ]
  },
  {
   "cell_type": "code",
   "execution_count": 103,
   "metadata": {},
   "outputs": [],
   "source": [
    "class EncoderRNN(nn.Module):\n",
    "    def __init__(self, hidden_size, embedding, n_layers=1, dropout=0):\n",
    "        super(EncoderRNN, self).__init__()\n",
    "        self.n_layers = n_layers\n",
    "        self.hidden_size = hidden_size\n",
    "        self.embedding = embedding\n",
    "\n",
    "        # Initialize GRU; the input_size and hidden_size params are both set to 'hidden_size'\n",
    "        #   because our input size is a word embedding with number of features == hidden_size\n",
    "        self.gru = nn.GRU(hidden_size, hidden_size, n_layers,\n",
    "                          dropout=(0 if n_layers == 1 else dropout), bidirectional=True)\n",
    "\n",
    "    def forward(self, input_seq, input_lengths, hidden=None):\n",
    "        # Convert word indexes to embeddings\n",
    "        embedded = self.embedding(input_seq)\n",
    "        # Pack padded batch of sequences for RNN module\n",
    "        packed = nn.utils.rnn.pack_padded_sequence(embedded, input_lengths)\n",
    "        # Forward pass through GRU\n",
    "        outputs, hidden = self.gru(packed, hidden)\n",
    "        # Unpack padding\n",
    "        outputs, _ = nn.utils.rnn.pad_packed_sequence(outputs)\n",
    "        # Sum bidirectional GRU outputs\n",
    "        outputs = outputs[:, :, :self.hidden_size] + outputs[:, : ,self.hidden_size:]\n",
    "        # Return output and final hidden state\n",
    "        return outputs, hidden"
   ]
  },
  {
   "cell_type": "markdown",
   "metadata": {},
   "source": [
    "Attention using dot"
   ]
  },
  {
   "cell_type": "code",
   "execution_count": 104,
   "metadata": {},
   "outputs": [],
   "source": [
    "# Luong attention layer\n",
    "class Attn(nn.Module):\n",
    "    def __init__(self, method, hidden_size):\n",
    "        super(Attn, self).__init__()\n",
    "        self.method = method\n",
    "        self.hidden_size = hidden_size\n",
    "\n",
    "    def dot_score(self, hidden, encoder_output):\n",
    "        return torch.sum(hidden * encoder_output, dim=2)\n",
    "\n",
    "    def forward(self, hidden, encoder_outputs):\n",
    "        # Calculate the attention weights (energies) based on the given method\n",
    "        attn_energies = self.dot_score(hidden, encoder_outputs)\n",
    "        # Transpose max_length and batch_size dimensions\n",
    "        attn_energies = attn_energies.t()\n",
    "        # Return the softmax normalized probability scores (with added dimension)\n",
    "        return F.softmax(attn_energies, dim=1).unsqueeze(1)"
   ]
  },
  {
   "cell_type": "code",
   "execution_count": 105,
   "metadata": {},
   "outputs": [],
   "source": [
    "class LuongAttnDecoderRNN(nn.Module):\n",
    "    def __init__(self, attn_model, embedding, hidden_size, output_size, n_layers=1, dropout=0.1):\n",
    "        super(LuongAttnDecoderRNN, self).__init__()\n",
    "\n",
    "        # Keep for reference\n",
    "        self.attn_model = attn_model\n",
    "        self.hidden_size = hidden_size\n",
    "        self.output_size = output_size\n",
    "        self.n_layers = n_layers\n",
    "        self.dropout = dropout\n",
    "\n",
    "        # Define layers\n",
    "        self.embedding = embedding\n",
    "        self.embedding_dropout = nn.Dropout(dropout)\n",
    "        self.gru = nn.GRU(hidden_size, hidden_size, n_layers, dropout=(0 if n_layers == 1 else dropout))\n",
    "        self.concat = nn.Linear(hidden_size * 2, hidden_size)\n",
    "        self.out = nn.Linear(hidden_size, output_size)\n",
    "\n",
    "        self.attn = Attn(attn_model, hidden_size)\n",
    "\n",
    "    def forward(self, input_step, last_hidden, encoder_outputs):\n",
    "        # Note: we run this one step (word) at a time\n",
    "        # Get embedding of current input word\n",
    "        embedded = self.embedding(input_step)\n",
    "        embedded = self.embedding_dropout(embedded)\n",
    "        # Forward through unidirectional GRU\n",
    "        rnn_output, hidden = self.gru(embedded, last_hidden)\n",
    "        # Calculate attention weights from the current GRU output\n",
    "        attn_weights = self.attn(rnn_output, encoder_outputs)\n",
    "        # Multiply attention weights to encoder outputs to get new \"weighted sum\" context vector\n",
    "        context = attn_weights.bmm(encoder_outputs.transpose(0, 1))\n",
    "        # Concatenate weighted context vector and GRU output using Luong eq. 5\n",
    "        rnn_output = rnn_output.squeeze(0)\n",
    "        context = context.squeeze(1)\n",
    "        concat_input = torch.cat((rnn_output, context), 1)\n",
    "        concat_output = torch.tanh(self.concat(concat_input))\n",
    "        # Predict next word using Luong eq. 6\n",
    "        output = self.out(concat_output)\n",
    "        output = F.softmax(output, dim=1)\n",
    "        # Return output and final hidden state\n",
    "        return output, hidden"
   ]
  },
  {
   "cell_type": "markdown",
   "metadata": {},
   "source": [
    "# Training"
   ]
  },
  {
   "cell_type": "code",
   "execution_count": 106,
   "metadata": {},
   "outputs": [],
   "source": [
    "# negative log lokelihood loss\n",
    "# maskNLLLoss(decoder_output, target_variable[t], mask[t])\n",
    "def maskNLLLoss(inp, target, mask): \n",
    "    nTotal = mask.sum()\n",
    "    crossEntropy = -torch.log(torch.gather(inp, 1, target.view(-1, 1)).squeeze(1))\n",
    "    loss = crossEntropy.masked_select(mask).mean()\n",
    "    #loss = reward * loss -> 0.001/1\n",
    "    loss = loss.to(device)\n",
    "    return loss, nTotal.item()"
   ]
  },
  {
   "cell_type": "code",
   "execution_count": 57,
   "metadata": {},
   "outputs": [
    {
     "name": "stdout",
     "output_type": "stream",
     "text": [
      "input_variable: tensor([[  3,   3,   3,  ...,   3,   3,   3],\n",
      "        [  5,   8, 225,  ...,   8,   8,   8],\n",
      "        [ 12,   9,   5,  ...,   9,   9,   9],\n",
      "        ...,\n",
      "        [160,   0,   0,  ...,   0,   0,   0],\n",
      "        [101,   0,   0,  ...,   0,   0,   0],\n",
      "        [  2,   0,   0,  ...,   0,   0,   0]])\n",
      "lengths: tensor([128, 103,  87,  62,  61,  50,  47,  47,  37,  33,  32,  25,  25,  25,\n",
      "         24,  22,  21,  21,  20,  17])\n",
      "target_variable: tensor([[114,  13, 188,  13, 112,  63,  40,  45,  17,  13,  82, 225, 146,  13,\n",
      "         105,  32,  87,  34, 137, 246],\n",
      "        [  7,  60,   9,  15,  92, 108,  47,  78,  28,  38,  24,   5,   2,  38,\n",
      "           5, 143,   5,  88,   5, 139],\n",
      "        [ 55, 117,  10,  38, 162, 114,  32,   2, 296, 124,   2, 160,   0, 124,\n",
      "          32, 144,  13,  32, 204,  63],\n",
      "        [ 56, 151,  11, 124, 189, 211,  33,   0,  73,  19,   0,   2,   0,  19,\n",
      "          90, 174,  38, 143, 138, 247],\n",
      "        [ 57,  12,  12, 213,  13,  78,   7,   0,  63,   5,   0,   0,   0,   5,\n",
      "         174,   5, 124, 144,   7,  13],\n",
      "        [ 58, 142,  13,   5, 181, 206,  73,   0,  43,  23,   0,   0,   0,  23,\n",
      "           2, 252,  86,  82,  18, 248],\n",
      "        [ 54,  53,  14, 214, 129, 140,  40,   0,  74,  24,   0,   0,   0,  24,\n",
      "           0, 124,   7,  24,   5,  57],\n",
      "        [ 59,  13,  12,   7,  13, 207,  43,   0,  13,   7,   0,   0,   0,  57,\n",
      "           0,  12,   2, 160,  13,  10],\n",
      "        [ 13, 181, 397,   2,  60,  13,   9,   0,  38,   2,   0,   0,   0,  28,\n",
      "           0, 142,   0,   2,  38, 249],\n",
      "        [ 60,  82, 175,   0,  40,  58,   7,   0, 124,   0,   0,   0,   0, 162,\n",
      "           0,  53,   0,   0, 124, 250],\n",
      "        [ 61,  24, 280,   0, 173, 296,   2,   0,  19,   0,   0,   0,   0, 804,\n",
      "           0,  13,   0,   0,   4,   5],\n",
      "        [ 62,   6,   7,   0,   7, 128,   0,   0,   5,   0,   0,   0,   0, 805,\n",
      "           0,   2,   0,   0,  21,  30],\n",
      "        [ 12,   2,   2,   0,   2, 129,   0,   0,  23,   0,   0,   0,   0,   7,\n",
      "           0,   0,   0,   0,   2,  13],\n",
      "        [ 15,   0,   0,   0,   0,  13,   0,   0,  24,   0,   0,   0,   0,   2,\n",
      "           0,   0,   0,   0,   0, 251],\n",
      "        [ 46,   0,   0,   0,   0,  60,   0,   0, 606,   0,   0,   0,   0,   0,\n",
      "           0,   0,   0,   0,   0,   2],\n",
      "        [ 32,   0,   0,   0,   0,   2,   0,   0,   5,   0,   0,   0,   0,   0,\n",
      "           0,   0,   0,   0,   0,   0],\n",
      "        [143,   0,   0,   0,   0,   0,   0,   0,  13,   0,   0,   0,   0,   0,\n",
      "           0,   0,   0,   0,   0,   0],\n",
      "        [144,   0,   0,   0,   0,   0,   0,   0,  38,   0,   0,   0,   0,   0,\n",
      "           0,   0,   0,   0,   0,   0],\n",
      "        [ 67,   0,   0,   0,   0,   0,   0,   0, 124,   0,   0,   0,   0,   0,\n",
      "           0,   0,   0,   0,   0,   0],\n",
      "        [160,   0,   0,   0,   0,   0,   0,   0, 145,   0,   0,   0,   0,   0,\n",
      "           0,   0,   0,   0,   0,   0],\n",
      "        [101,   0,   0,   0,   0,   0,   0,   0,  21,   0,   0,   0,   0,   0,\n",
      "           0,   0,   0,   0,   0,   0],\n",
      "        [117,   0,   0,   0,   0,   0,   0,   0,   2,   0,   0,   0,   0,   0,\n",
      "           0,   0,   0,   0,   0,   0],\n",
      "        [118,   0,   0,   0,   0,   0,   0,   0,   0,   0,   0,   0,   0,   0,\n",
      "           0,   0,   0,   0,   0,   0],\n",
      "        [ 32,   0,   0,   0,   0,   0,   0,   0,   0,   0,   0,   0,   0,   0,\n",
      "           0,   0,   0,   0,   0,   0],\n",
      "        [143,   0,   0,   0,   0,   0,   0,   0,   0,   0,   0,   0,   0,   0,\n",
      "           0,   0,   0,   0,   0,   0],\n",
      "        [144,   0,   0,   0,   0,   0,   0,   0,   0,   0,   0,   0,   0,   0,\n",
      "           0,   0,   0,   0,   0,   0],\n",
      "        [ 67,   0,   0,   0,   0,   0,   0,   0,   0,   0,   0,   0,   0,   0,\n",
      "           0,   0,   0,   0,   0,   0],\n",
      "        [101,   0,   0,   0,   0,   0,   0,   0,   0,   0,   0,   0,   0,   0,\n",
      "           0,   0,   0,   0,   0,   0],\n",
      "        [160,   0,   0,   0,   0,   0,   0,   0,   0,   0,   0,   0,   0,   0,\n",
      "           0,   0,   0,   0,   0,   0],\n",
      "        [  2,   0,   0,   0,   0,   0,   0,   0,   0,   0,   0,   0,   0,   0,\n",
      "           0,   0,   0,   0,   0,   0]])\n",
      "mask: tensor([[1, 1, 1, 1, 1, 1, 1, 1, 1, 1, 1, 1, 1, 1, 1, 1, 1, 1, 1, 1],\n",
      "        [1, 1, 1, 1, 1, 1, 1, 1, 1, 1, 1, 1, 1, 1, 1, 1, 1, 1, 1, 1],\n",
      "        [1, 1, 1, 1, 1, 1, 1, 1, 1, 1, 1, 1, 0, 1, 1, 1, 1, 1, 1, 1],\n",
      "        [1, 1, 1, 1, 1, 1, 1, 0, 1, 1, 0, 1, 0, 1, 1, 1, 1, 1, 1, 1],\n",
      "        [1, 1, 1, 1, 1, 1, 1, 0, 1, 1, 0, 0, 0, 1, 1, 1, 1, 1, 1, 1],\n",
      "        [1, 1, 1, 1, 1, 1, 1, 0, 1, 1, 0, 0, 0, 1, 1, 1, 1, 1, 1, 1],\n",
      "        [1, 1, 1, 1, 1, 1, 1, 0, 1, 1, 0, 0, 0, 1, 0, 1, 1, 1, 1, 1],\n",
      "        [1, 1, 1, 1, 1, 1, 1, 0, 1, 1, 0, 0, 0, 1, 0, 1, 1, 1, 1, 1],\n",
      "        [1, 1, 1, 1, 1, 1, 1, 0, 1, 1, 0, 0, 0, 1, 0, 1, 0, 1, 1, 1],\n",
      "        [1, 1, 1, 0, 1, 1, 1, 0, 1, 0, 0, 0, 0, 1, 0, 1, 0, 0, 1, 1],\n",
      "        [1, 1, 1, 0, 1, 1, 1, 0, 1, 0, 0, 0, 0, 1, 0, 1, 0, 0, 1, 1],\n",
      "        [1, 1, 1, 0, 1, 1, 0, 0, 1, 0, 0, 0, 0, 1, 0, 1, 0, 0, 1, 1],\n",
      "        [1, 1, 1, 0, 1, 1, 0, 0, 1, 0, 0, 0, 0, 1, 0, 0, 0, 0, 1, 1],\n",
      "        [1, 0, 0, 0, 0, 1, 0, 0, 1, 0, 0, 0, 0, 1, 0, 0, 0, 0, 0, 1],\n",
      "        [1, 0, 0, 0, 0, 1, 0, 0, 1, 0, 0, 0, 0, 0, 0, 0, 0, 0, 0, 1],\n",
      "        [1, 0, 0, 0, 0, 1, 0, 0, 1, 0, 0, 0, 0, 0, 0, 0, 0, 0, 0, 0],\n",
      "        [1, 0, 0, 0, 0, 0, 0, 0, 1, 0, 0, 0, 0, 0, 0, 0, 0, 0, 0, 0],\n",
      "        [1, 0, 0, 0, 0, 0, 0, 0, 1, 0, 0, 0, 0, 0, 0, 0, 0, 0, 0, 0],\n",
      "        [1, 0, 0, 0, 0, 0, 0, 0, 1, 0, 0, 0, 0, 0, 0, 0, 0, 0, 0, 0],\n",
      "        [1, 0, 0, 0, 0, 0, 0, 0, 1, 0, 0, 0, 0, 0, 0, 0, 0, 0, 0, 0],\n",
      "        [1, 0, 0, 0, 0, 0, 0, 0, 1, 0, 0, 0, 0, 0, 0, 0, 0, 0, 0, 0],\n",
      "        [1, 0, 0, 0, 0, 0, 0, 0, 1, 0, 0, 0, 0, 0, 0, 0, 0, 0, 0, 0],\n",
      "        [1, 0, 0, 0, 0, 0, 0, 0, 0, 0, 0, 0, 0, 0, 0, 0, 0, 0, 0, 0],\n",
      "        [1, 0, 0, 0, 0, 0, 0, 0, 0, 0, 0, 0, 0, 0, 0, 0, 0, 0, 0, 0],\n",
      "        [1, 0, 0, 0, 0, 0, 0, 0, 0, 0, 0, 0, 0, 0, 0, 0, 0, 0, 0, 0],\n",
      "        [1, 0, 0, 0, 0, 0, 0, 0, 0, 0, 0, 0, 0, 0, 0, 0, 0, 0, 0, 0],\n",
      "        [1, 0, 0, 0, 0, 0, 0, 0, 0, 0, 0, 0, 0, 0, 0, 0, 0, 0, 0, 0],\n",
      "        [1, 0, 0, 0, 0, 0, 0, 0, 0, 0, 0, 0, 0, 0, 0, 0, 0, 0, 0, 0],\n",
      "        [1, 0, 0, 0, 0, 0, 0, 0, 0, 0, 0, 0, 0, 0, 0, 0, 0, 0, 0, 0],\n",
      "        [1, 0, 0, 0, 0, 0, 0, 0, 0, 0, 0, 0, 0, 0, 0, 0, 0, 0, 0, 0]],\n",
      "       dtype=torch.uint8)\n",
      "max_target_len: 30\n",
      "START TRAINING\n",
      "\n",
      "\n",
      " Iteration: 1\n"
     ]
    },
    {
     "data": {
      "image/png": "[encoded data removed]",
      "text/plain": [
       "<Figure size 432x288 with 1 Axes>"
      ]
     },
     "metadata": {
      "needs_background": "light"
     },
     "output_type": "display_data"
    },
    {
     "name": "stdout",
     "output_type": "stream",
     "text": [
      "returned loss 6.922280928036114\n",
      "[6.922280928036114]\n",
      "avg decrease 1000\n",
      "\n",
      "\n",
      " Iteration: 2\n"
     ]
    },
    {
     "data": {
      "image/png": "[encoded data removed]",
      "text/plain": [
       "<Figure size 432x288 with 1 Axes>"
      ]
     },
     "metadata": {
      "needs_background": "light"
     },
     "output_type": "display_data"
    },
    {
     "name": "stdout",
     "output_type": "stream",
     "text": [
      "returned loss 6.704759072094429\n",
      "[6.922280928036114, 6.704759072094429]\n",
      "avg decrease 1000\n",
      "\n",
      "\n",
      " Iteration: 3\n"
     ]
    },
    {
     "data": {
      "image/png": "[encoded data removed]",
      "text/plain": [
       "<Figure size 432x288 with 1 Axes>"
      ]
     },
     "metadata": {
      "needs_background": "light"
     },
     "output_type": "display_data"
    },
    {
     "name": "stdout",
     "output_type": "stream",
     "text": [
      "returned loss 6.087405742504896\n",
      "[6.922280928036114, 6.704759072094429, 6.087405742504896]\n",
      "avg decrease 1000\n",
      "\n",
      "\n",
      " Iteration: 4\n"
     ]
    },
    {
     "data": {
      "image/png": "[encoded data removed]",
      "text/plain": [
       "<Figure size 432x288 with 1 Axes>"
      ]
     },
     "metadata": {
      "needs_background": "light"
     },
     "output_type": "display_data"
    },
    {
     "name": "stdout",
     "output_type": "stream",
     "text": [
      "returned loss 5.5603148534342095\n",
      "[6.922280928036114, 6.704759072094429, 6.087405742504896, 5.5603148534342095]\n",
      "avg decrease 1000\n",
      "\n",
      "\n",
      " Iteration: 5\n"
     ]
    },
    {
     "data": {
      "image/png": "[encoded data removed]",
      "text/plain": [
       "<Figure size 432x288 with 1 Axes>"
      ]
     },
     "metadata": {
      "needs_background": "light"
     },
     "output_type": "display_data"
    },
    {
     "name": "stdout",
     "output_type": "stream",
     "text": [
      "returned loss 5.081272555463141\n",
      "[6.922280928036114, 6.704759072094429, 6.087405742504896, 5.5603148534342095, 5.081272555463141]\n",
      "avg decrease 0.0920504186286486\n",
      "\n",
      "\n",
      " Iteration: 6\n"
     ]
    },
    {
     "data": {
      "image/png": "[encoded data removed]",
      "text/plain": [
       "<Figure size 432x288 with 1 Axes>"
      ]
     },
     "metadata": {
      "needs_background": "light"
     },
     "output_type": "display_data"
    },
    {
     "name": "stdout",
     "output_type": "stream",
     "text": [
      "returned loss 5.2471200823783875\n",
      "[6.922280928036114, 6.704759072094429, 6.087405742504896, 5.5603148534342095, 5.081272555463141]\n",
      "avg decrease 0.12521992401169796\n",
      "\n",
      "\n",
      " Iteration: 7\n"
     ]
    },
    {
     "data": {
      "image/png": "[encoded data removed]",
      "text/plain": [
       "<Figure size 432x288 with 1 Axes>"
      ]
     },
     "metadata": {
      "needs_background": "light"
     },
     "output_type": "display_data"
    },
    {
     "name": "stdout",
     "output_type": "stream",
     "text": [
      "returned loss 5.219174949490294\n",
      "[6.922280928036114, 6.704759072094429, 6.087405742504896, 5.5603148534342095, 5.081272555463141]\n",
      "avg decrease 0.11963089743407931\n",
      "\n",
      "\n",
      " Iteration: 8\n"
     ]
    },
    {
     "data": {
      "image/png": "[encoded data removed]",
      "text/plain": [
       "<Figure size 432x288 with 1 Axes>"
      ]
     },
     "metadata": {
      "needs_background": "light"
     },
     "output_type": "display_data"
    },
    {
     "name": "stdout",
     "output_type": "stream",
     "text": [
      "returned loss 5.059710389744919\n",
      "[6.922280928036114, 6.704759072094429, 6.087405742504896, 5.5603148534342095, 5.081272555463141]\n",
      "avg decrease 0.08773798548500426\n",
      "\n",
      "\n",
      " Iteration: 9\n"
     ]
    },
    {
     "ename": "KeyboardInterrupt",
     "evalue": "",
     "output_type": "error",
     "traceback": [
      "\u001b[0;31m---------------------------------------------------------------------------\u001b[0m",
      "\u001b[0;31mKeyboardInterrupt\u001b[0m                         Traceback (most recent call last)",
      "\u001b[0;32m<ipython-input-57-b4662b4af0a1>\u001b[0m in \u001b[0;36m<module>\u001b[0;34m\u001b[0m\n\u001b[1;32m     98\u001b[0m         \u001b[0mn_totals\u001b[0m \u001b[0;34m+=\u001b[0m \u001b[0mnTotal\u001b[0m\u001b[0;34m\u001b[0m\u001b[0;34m\u001b[0m\u001b[0m\n\u001b[1;32m     99\u001b[0m \u001b[0;34m\u001b[0m\u001b[0m\n\u001b[0;32m--> 100\u001b[0;31m     \u001b[0mloss\u001b[0m\u001b[0;34m.\u001b[0m\u001b[0mbackward\u001b[0m\u001b[0;34m(\u001b[0m\u001b[0mretain_graph\u001b[0m\u001b[0;34m=\u001b[0m\u001b[0;32mTrue\u001b[0m\u001b[0;34m)\u001b[0m\u001b[0;34m\u001b[0m\u001b[0;34m\u001b[0m\u001b[0m\n\u001b[0m\u001b[1;32m    101\u001b[0m \u001b[0;34m\u001b[0m\u001b[0m\n\u001b[1;32m    102\u001b[0m     \u001b[0;31m# Clip gradients: gradients are modified in place\u001b[0m\u001b[0;34m\u001b[0m\u001b[0;34m\u001b[0m\u001b[0;34m\u001b[0m\u001b[0m\n",
      "\u001b[0;32m~/anaconda3/lib/python3.6/site-packages/torch/tensor.py\u001b[0m in \u001b[0;36mbackward\u001b[0;34m(self, gradient, retain_graph, create_graph)\u001b[0m\n\u001b[1;32m    105\u001b[0m                 \u001b[0mproducts\u001b[0m\u001b[0;34m.\u001b[0m \u001b[0mDefaults\u001b[0m \u001b[0mto\u001b[0m\u001b[0;31m \u001b[0m\u001b[0;31m`\u001b[0m\u001b[0;31m`\u001b[0m\u001b[0;32mFalse\u001b[0m\u001b[0;31m`\u001b[0m\u001b[0;31m`\u001b[0m\u001b[0;34m.\u001b[0m\u001b[0;34m\u001b[0m\u001b[0;34m\u001b[0m\u001b[0m\n\u001b[1;32m    106\u001b[0m         \"\"\"\n\u001b[0;32m--> 107\u001b[0;31m         \u001b[0mtorch\u001b[0m\u001b[0;34m.\u001b[0m\u001b[0mautograd\u001b[0m\u001b[0;34m.\u001b[0m\u001b[0mbackward\u001b[0m\u001b[0;34m(\u001b[0m\u001b[0mself\u001b[0m\u001b[0;34m,\u001b[0m \u001b[0mgradient\u001b[0m\u001b[0;34m,\u001b[0m \u001b[0mretain_graph\u001b[0m\u001b[0;34m,\u001b[0m \u001b[0mcreate_graph\u001b[0m\u001b[0;34m)\u001b[0m\u001b[0;34m\u001b[0m\u001b[0;34m\u001b[0m\u001b[0m\n\u001b[0m\u001b[1;32m    108\u001b[0m \u001b[0;34m\u001b[0m\u001b[0m\n\u001b[1;32m    109\u001b[0m     \u001b[0;32mdef\u001b[0m \u001b[0mregister_hook\u001b[0m\u001b[0;34m(\u001b[0m\u001b[0mself\u001b[0m\u001b[0;34m,\u001b[0m \u001b[0mhook\u001b[0m\u001b[0;34m)\u001b[0m\u001b[0;34m:\u001b[0m\u001b[0;34m\u001b[0m\u001b[0;34m\u001b[0m\u001b[0m\n",
      "\u001b[0;32m~/anaconda3/lib/python3.6/site-packages/torch/autograd/__init__.py\u001b[0m in \u001b[0;36mbackward\u001b[0;34m(tensors, grad_tensors, retain_graph, create_graph, grad_variables)\u001b[0m\n\u001b[1;32m     91\u001b[0m     Variable._execution_engine.run_backward(\n\u001b[1;32m     92\u001b[0m         \u001b[0mtensors\u001b[0m\u001b[0;34m,\u001b[0m \u001b[0mgrad_tensors\u001b[0m\u001b[0;34m,\u001b[0m \u001b[0mretain_graph\u001b[0m\u001b[0;34m,\u001b[0m \u001b[0mcreate_graph\u001b[0m\u001b[0;34m,\u001b[0m\u001b[0;34m\u001b[0m\u001b[0;34m\u001b[0m\u001b[0m\n\u001b[0;32m---> 93\u001b[0;31m         allow_unreachable=True)  # allow_unreachable flag\n\u001b[0m\u001b[1;32m     94\u001b[0m \u001b[0;34m\u001b[0m\u001b[0m\n\u001b[1;32m     95\u001b[0m \u001b[0;34m\u001b[0m\u001b[0m\n",
      "\u001b[0;31mKeyboardInterrupt\u001b[0m: "
     ]
    }
   ],
   "source": [
    "LEARN_RATE = 0.001\n",
    "clip = 50.0\n",
    "# num_iters = 400\n",
    "DESIRED_LOSS = 0.1\n",
    "\n",
    "small_batch_size = 20\n",
    "batches = batch2TrainData(voc, [random.choice(pairs) for _ in range(small_batch_size)])\n",
    "input_variable, lengths, target_variable, mask, max_target_len, input_batch, output_batch = batches\n",
    "\n",
    "print(\"input_variable:\", input_variable)\n",
    "print(\"lengths:\", lengths)\n",
    "print(\"target_variable:\", target_variable)\n",
    "print(\"mask:\", mask)\n",
    "print(\"max_target_len:\", max_target_len)\n",
    "\n",
    "attn_model = 'dot'\n",
    "hidden_size = 500\n",
    "encoder_n_layers = 2\n",
    "decoder_n_layers = 2\n",
    "dropout = 0.1\n",
    "embedding = nn.Embedding(voc.num_words, hidden_size)\n",
    "\n",
    "encoder = EncoderRNN(hidden_size, embedding, encoder_n_layers, dropout)\n",
    "decoder = LuongAttnDecoderRNN(attn_model,  embedding, hidden_size, voc.num_words, decoder_n_layers, dropout)\n",
    "#pass models to device \n",
    "encoder = encoder.to(device)\n",
    "decoder = decoder.to(device)\n",
    "\n",
    "encoder.train()\n",
    "decoder.train()\n",
    "\n",
    "#optimizers\n",
    "encoder_optimizer = optim.Adam(encoder.parameters(), lr=LEARN_RATE)\n",
    "decoder_optimizer = optim.Adam(decoder.parameters(), lr=LEARN_RATE)\n",
    "encoder_optimizer.zero_grad()\n",
    "decoder_optimizer.zero_grad()\n",
    "\n",
    "\n",
    "# start training\n",
    "print(\"START TRAINING\")\n",
    "print(\"\\n\")\n",
    "\n",
    "returned_losses = []\n",
    "returned_loss = 1000\n",
    "\n",
    "avg_decrease = 1000\n",
    "reachedtarget = False\n",
    "patience = 5\n",
    "freq = 0.1\n",
    "\n",
    "iteration = 0\n",
    "# for iteration in range(num_iters):\n",
    "while true:\n",
    "    iteration += 1\n",
    "    \n",
    "    print(\" Iteration:\", iteration)\n",
    "    \n",
    "    batches = batch2TrainData(voc, [random.choice(pairs) for _ in range(small_batch_size)])\n",
    "    input_variable, lengths, target_variable, mask, max_target_len, input_batch, output_batch = batches\n",
    "    \n",
    "    #train one iter\n",
    "    \n",
    "    encoder_optimizer.zero_grad()\n",
    "    decoder_optimizer.zero_grad()\n",
    "\n",
    "    input_variable = input_variable.to(device)\n",
    "    lengths = lengths.to(device)\n",
    "    target_variable = target_variable.to(device)\n",
    "    mask = mask.to(device)\n",
    "\n",
    "    loss = 0\n",
    "    print_losses = []\n",
    "    n_totals = 0\n",
    "    \n",
    "\n",
    "    encoder_outputs, encoder_hidden = encoder(input_variable, lengths)\n",
    "#     print(\"encoder output shape\", encoder_outputs.shape)\n",
    "#     print(\"last encoder hidden shape\", encoder_hidden.shape)\n",
    "\n",
    "    decoder_input = torch.LongTensor([[SOS_token for _ in range (small_batch_size)]])\n",
    "    decoder_input = decoder_input.to(device)\n",
    "#     print(\"initial decoder input shape\", decoder_input.shape)\n",
    "#     print(decoder_input)\n",
    "\n",
    "    decoder_hidden =  encoder_hidden[:decoder.n_layers]\n",
    "#     print(\"initial decoder hidden state shape\", decoder_hidden.shape)\n",
    "\n",
    "    for t in range(max_target_len):\n",
    "        decoder_output, decoder_hidden = decoder(decoder_input, decoder_hidden, encoder_outputs)\n",
    "\n",
    "        #teacher forcing\n",
    "        decoder_input = target_variable[t].view(1,-1)\n",
    "\n",
    "        mask_loss, nTotal = maskNLLLoss(decoder_output, target_variable[t], mask[t])\n",
    "        loss += mask_loss\n",
    "        print_losses.append(mask_loss.item() * nTotal)\n",
    "\n",
    "        n_totals += nTotal\n",
    "\n",
    "    loss.backward(retain_graph=True)\n",
    "    \n",
    "    # Clip gradients: gradients are modified in place\n",
    "    _ = nn.utils.clip_grad_norm_(encoder.parameters(), clip)\n",
    "    _ = nn.utils.clip_grad_norm_(decoder.parameters(), clip)\n",
    "\n",
    "    encoder_optimizer.step()\n",
    "    decoder_optimizer.step()\n",
    "\n",
    "    returned_loss = sum(print_losses) / n_totals\n",
    "    \n",
    "    if not reachedtarget:\n",
    "        returned_losses.append(returned_loss)\n",
    "    \n",
    "    if len(returned_losses) == patience:\n",
    "        reachedtarget = True\n",
    "        sum_of_change = 0\n",
    "        for i in range(len(returned_losses) - 1):\n",
    "            sum_of_change += returned_losses[i] - returned_losses[i+1]\n",
    "        avg_decrease = sum_of_change / float(patience - 1)\n",
    "        \n",
    "    if reachedtarget:\n",
    "        avg_decrease = (avg_decrease * patience - returned_losses[0] + returned_loss) / float(patience)\n",
    "        \n",
    "\n",
    "    \n",
    "    plt.plot(returned_losses)\n",
    "    plt.show()\n",
    "    \n",
    "    print(\"returned loss\", returned_loss)\n",
    "    print(returned_losses)\n",
    "    print(\"avg decrease\", avg_decrease)\n",
    "    print(\"\\n\")\n",
    "    \n",
    "\n"
   ]
  },
  {
   "cell_type": "code",
   "execution_count": 107,
   "metadata": {},
   "outputs": [],
   "source": [
    "class GreedySearchDecoder(nn.Module):\n",
    "    def __init__(self, encoder, decoder):\n",
    "        super(GreedySearchDecoder, self).__init__()\n",
    "        self.encoder = encoder\n",
    "        self.decoder = decoder\n",
    "\n",
    "    def forward(self, input_seq, input_length, max_length):\n",
    "        # Forward input through encoder model\n",
    "        encoder_outputs, encoder_hidden = self.encoder(input_seq, input_length)\n",
    "        # Prepare encoder's final hidden layer to be first hidden input to the decoder\n",
    "        decoder_hidden = encoder_hidden[:decoder.n_layers]\n",
    "        # Initialize decoder input with SOS_token\n",
    "        decoder_input = torch.ones(1, 1, device=device, dtype=torch.long) * SOS_token\n",
    "        # Initialize tensors to append decoded words to\n",
    "        all_tokens = torch.zeros([0], device=device, dtype=torch.long)\n",
    "        all_scores = torch.zeros([0], device=device)\n",
    "        # Iteratively decode one word token at a time\n",
    "        for _ in range(max_length):\n",
    "            # Forward pass through decoder\n",
    "            decoder_output, decoder_hidden = self.decoder(decoder_input, decoder_hidden, encoder_outputs)\n",
    "            # Obtain most likely word token and its softmax score\n",
    "            decoder_scores, decoder_input = torch.max(decoder_output, dim=1)\n",
    "            # Record token and score\n",
    "            all_tokens = torch.cat((all_tokens, decoder_input), dim=0)\n",
    "            all_scores = torch.cat((all_scores, decoder_scores), dim=0)\n",
    "            # Prepare current token to be next decoder input (add a dimension)\n",
    "            decoder_input = torch.unsqueeze(decoder_input, 0)\n",
    "        # Return collections of word tokens and scores\n",
    "        return all_tokens, all_scores\n",
    "    "
   ]
  },
  {
   "cell_type": "code",
   "execution_count": 108,
   "metadata": {},
   "outputs": [],
   "source": [
    "def evaluate(encoder, decoder, searcher, voc, sentence, max_length):\n",
    "    ### Format input sentence as a batch\n",
    "    # words -> indexes\n",
    "    indexes_batch = [indexesFromSentence(voc, sentence)]\n",
    "    # Create lengths tensor\n",
    "    lengths = torch.tensor([len(indexes) for indexes in indexes_batch])\n",
    "    # Transpose dimensions of batch to match models' expectations\n",
    "    input_batch = torch.LongTensor(indexes_batch).transpose(0, 1)\n",
    "    # Use appropriate device\n",
    "    input_batch = input_batch.to(device)\n",
    "    lengths = lengths.to(device)\n",
    "    # Decode sentence with searcher\n",
    "    tokens, scores = searcher(input_batch, lengths, max_length)\n",
    "    # indexes -> words\n",
    "    decoded_words = [voc.index2word[token.item()] for token in tokens]\n",
    "    return decoded_words\n",
    "\n",
    "\n",
    "#returns a list of output words fiven a input sentence\n",
    "def evaluateInput(encoder, decoder, searcher, voc, input_sentence, max_length):\n",
    "    input_sentence = normalizeString(input_sentence)\n",
    "    # Evaluate sentence\n",
    "    output_words = evaluate(encoder, decoder, searcher, voc, input_sentence, max_length)\n",
    "    # Format and print response sentence\n",
    "    output_words[:] = [x for x in output_words if not (x == 'EOS' or x == 'PAD')]\n",
    "    return output_words\n",
    "#     print('Bot:', ' '.join(output_words))\n"
   ]
  },
  {
   "cell_type": "markdown",
   "metadata": {},
   "source": [
    "# simulated student"
   ]
  },
  {
   "cell_type": "code",
   "execution_count": 110,
   "metadata": {},
   "outputs": [],
   "source": [
    "import  pprint\n",
    "pp = pprint.PrettyPrinter(indent = 4)\n",
    "\n",
    "\n",
    "xy = pd.read_csv('./prep_student_input.csv')\n",
    "prepdf = pd.DataFrame(data=xy['Prep'])\n",
    "colordf = pd.DataFrame(data=xy['Color'])\n",
    "objdf = pd.DataFrame(data=xy['Obj'])\n",
    "\n",
    "\n",
    "prep = list(set(prepdf.values.flatten().tolist()))\n",
    "color = list(set(colordf.values.flatten().tolist()))\n",
    "obj = list(set(objdf.values.flatten().tolist()))\n",
    "\n",
    "\n",
    "concepts = prep + color + obj\n",
    "    "
   ]
  },
  {
   "cell_type": "code",
   "execution_count": 78,
   "metadata": {},
   "outputs": [],
   "source": [
    "# sample = \"pink is rosa\"\n",
    "\n",
    "#better way to pick out comcepts\n",
    "def pickout_concepts(resp):\n",
    "    #return a list of concepts present in  resp\n",
    "    rv = []\n",
    "    for word in resp.split():\n",
    "        if word in concepts:\n",
    "            rv.append(word)\n",
    "    return rv\n",
    "            \n",
    "#use pickout rate and forget rate\n",
    "def knowledge_change(resp):\n",
    "    picked = pickout_concepts(resp)\n",
    "    \n",
    "    change = 0\n",
    "    for c in picked:\n",
    "        if studentA[\"knowledge\"][c] ==  0:\n",
    "            if random.random() < studentA[\"pickup\"]: \n",
    "                studentA[\"knowledge\"][c] = 1\n",
    "                change += 1\n",
    "        elif studentA[\"knowledge\"][c] ==  1:\n",
    "            if random.random() < studentA[\"forget\"]: \n",
    "                studentA[\"knowledge\"][c] = 0\n",
    "                change -= 1\n",
    "    return change\n",
    "\n",
    "# print(pickout_concepts(sample))\n",
    "\n",
    "def evaluate_with_keyinput(encoder, decoder, searcher, voc):\n",
    "    input_sentence = ''\n",
    "    learned = 0\n",
    "    while(1):\n",
    "        try:\n",
    "            # Get input sentence\n",
    "            input_sentence = input('> ')\n",
    "            # Check if it is quit case\n",
    "            if input_sentence == 'q' or input_sentence == 'quit': break\n",
    "            # Normalize sentence\n",
    "            input_sentence = normalizeString(input_sentence)\n",
    "            # Evaluate sentence\n",
    "            output_words = evaluate(encoder, decoder, searcher, voc, input_sentence, max_target_len)\n",
    "            # Format and print response sentence\n",
    "            output_words[:] = [x for x in output_words if not (x == 'EOS' or x == 'PAD')]\n",
    "            output = ' '.join(output_words)\n",
    "            \n",
    "            change = knowledge_change(output)\n",
    "            learned += change\n",
    "            \n",
    "            print('Bot:', output)\n",
    "            print('change:', change)\n",
    "            print('knowledge', learned)\n",
    "\n",
    "        except KeyError:\n",
    "            print(\"Error: Encountered unknown word.\")\n",
    "            \n",
    "\n",
    "            "
   ]
  },
  {
   "cell_type": "code",
   "execution_count": 111,
   "metadata": {},
   "outputs": [
    {
     "name": "stdout",
     "output_type": "stream",
     "text": [
      "['e dietro il', 'e dentro la', 'e di fronte', 'e di fronte al', 'e vicino al', 'e dietro la', 'e in cima al', 'e vicino', 'e dietro', 'e vicino alla', 'e sotto', 'e accanto al', 'e davanti alla', 'e di fronte alla', 'e sotto il']\n",
      "is inside of the pink box\n",
      "Student is it is inside of the box pink \n"
     ]
    },
    {
     "ename": "NameError",
     "evalue": "name 'searcher' is not defined",
     "output_type": "error",
     "traceback": [
      "\u001b[0;31m---------------------------------------------------------------------------\u001b[0m",
      "\u001b[0;31mNameError\u001b[0m                                 Traceback (most recent call last)",
      "\u001b[0;32m<ipython-input-111-7aed1ec18370>\u001b[0m in \u001b[0;36m<module>\u001b[0;34m\u001b[0m\n\u001b[1;32m     32\u001b[0m     \u001b[0mprint\u001b[0m\u001b[0;34m(\u001b[0m\u001b[0;34m'Student'\u001b[0m\u001b[0;34m,\u001b[0m \u001b[0minput\u001b[0m\u001b[0;34m)\u001b[0m\u001b[0;34m\u001b[0m\u001b[0;34m\u001b[0m\u001b[0m\n\u001b[1;32m     33\u001b[0m \u001b[0;34m\u001b[0m\u001b[0m\n\u001b[0;32m---> 34\u001b[0;31m     \u001b[0moutput_words\u001b[0m \u001b[0;34m=\u001b[0m \u001b[0mevaluate\u001b[0m\u001b[0;34m(\u001b[0m\u001b[0mencoder\u001b[0m\u001b[0;34m,\u001b[0m \u001b[0mdecoder\u001b[0m\u001b[0;34m,\u001b[0m \u001b[0msearcher\u001b[0m\u001b[0;34m,\u001b[0m \u001b[0mvoc\u001b[0m\u001b[0;34m,\u001b[0m \u001b[0minput\u001b[0m\u001b[0;34m,\u001b[0m \u001b[0mmax_target_len\u001b[0m\u001b[0;34m)\u001b[0m\u001b[0;34m\u001b[0m\u001b[0;34m\u001b[0m\u001b[0m\n\u001b[0m\u001b[1;32m     35\u001b[0m     \u001b[0;31m# Format and print response sentence\u001b[0m\u001b[0;34m\u001b[0m\u001b[0;34m\u001b[0m\u001b[0;34m\u001b[0m\u001b[0m\n\u001b[1;32m     36\u001b[0m     \u001b[0moutput_words\u001b[0m\u001b[0;34m[\u001b[0m\u001b[0;34m:\u001b[0m\u001b[0;34m]\u001b[0m \u001b[0;34m=\u001b[0m \u001b[0;34m[\u001b[0m\u001b[0mx\u001b[0m \u001b[0;32mfor\u001b[0m \u001b[0mx\u001b[0m \u001b[0;32min\u001b[0m \u001b[0moutput_words\u001b[0m \u001b[0;32mif\u001b[0m \u001b[0;32mnot\u001b[0m \u001b[0;34m(\u001b[0m\u001b[0mx\u001b[0m \u001b[0;34m==\u001b[0m \u001b[0;34m'EOS'\u001b[0m \u001b[0;32mor\u001b[0m \u001b[0mx\u001b[0m \u001b[0;34m==\u001b[0m \u001b[0;34m'PAD'\u001b[0m\u001b[0;34m)\u001b[0m\u001b[0;34m]\u001b[0m\u001b[0;34m\u001b[0m\u001b[0;34m\u001b[0m\u001b[0m\n",
      "\u001b[0;31mNameError\u001b[0m: name 'searcher' is not defined"
     ]
    }
   ],
   "source": [
    "#TODO make students into objects\n",
    "#correct order is prep obj color\n",
    "studentA = {\n",
    "    \"pickup\" : 1,\n",
    "    \"forget\" : 0,\n",
    "    \"prep\": {p: 0 for p in prep},\n",
    "    \"color\": {c: 0 for c in color},\n",
    "    \"obj\": {o: 0 for o in obj}\n",
    "    \n",
    "}\n",
    "\n",
    "tutor_score = 0\n",
    "learned = 0\n",
    "\n",
    "# def simulate_with_student(encoder, decoder, searcher, voc, TEST_SIZE):\n",
    "# for each conversation:\n",
    "\n",
    "#TODO change to random.choice from concepts\n",
    "prep_c =  \"e dentro la\"\n",
    "color_c = \"rosa\"\n",
    "obj_c = \"scatola\"\n",
    "\n",
    "prep_t = translations[prep_c]\n",
    "color_t = translations[color_c]\n",
    "obj_t = translations[obj_c]\n",
    "\n",
    "relevent_hints = [prep_t, color_t, obj_t]\n",
    "\n",
    "\n",
    "\n",
    "for i in range(10):\n",
    "    #makes guess\n",
    "    if i % 2 == 1:\n",
    "        input = 'is it '\n",
    "        input += prep_c + ' ' if studentA[\"prep\"][prep_c] == 1 else prep_t + ' '\n",
    "\n",
    "        input += obj_c + ' '  if studentA[\"obj\"][obj_c] == 1 else obj_t + ' '\n",
    "        input += color_c + ' ' if studentA[\"color\"][color_c] == 1 else color_t + ' '\n",
    "\n",
    "        print('Student:', input)\n",
    "\n",
    "        output_words = evaluate(encoder, decoder, searcher, voc, input, max_target_len)\n",
    "        # Format and print response sentence\n",
    "        output_words[:] = [x for x in output_words if not (x == 'EOS' or x == 'PAD')]\n",
    "        output = ' '.join(output_words)\n",
    "        \n",
    "        for word in output_words:\n",
    "            if word in concepts and word not in relevent_hints:\n",
    "                tutor_score -= 1;\n",
    "            elif word in concepts and word in relevent_hints:\n",
    "                tutor_score += 1;\n",
    "        \n",
    "        change = knowledge_change(output)\n",
    "        learned += change\n",
    "        tutor_score += change\n",
    "\n",
    "        print('Bot:', output)\n",
    "        print('knowledge', learned)\n",
    "        print('tutor score', tutor_score)\n",
    "    #TODO student guess action\n",
    "        \n",
    "        \n",
    "        \n",
    "    \n",
    "    \n",
    "    "
   ]
  },
  {
   "cell_type": "code",
   "execution_count": 65,
   "metadata": {},
   "outputs": [],
   "source": [
    "def evaluate_with_target(encoder, decoder, searcher, voc, TEST_SIZE):\n",
    "\n",
    "    randomindexes = [random.randint(INPUT_SIZE, len(xy['Past Convo'])) for _ in range(TEST_SIZE)]\n",
    "\n",
    "    inputs = [xy['Past Convo'][randomindexes[i]] for i in range(TEST_SIZE)]\n",
    "    targets = [xy['Tutor Response'][randomindexes[i]] for i in range(TEST_SIZE)]\n",
    "\n",
    "    prep_c = [xy['Prep'][randomindexes[i]] for i in range(TEST_SIZE)]\n",
    "    color_c = [xy['Color'][randomindexes[i]] for i in range(TEST_SIZE)]\n",
    "    obj_c = [xy['Obj'][randomindexes[i]] for i in range(TEST_SIZE)]\n",
    "\n",
    "    for i in range(TEST_SIZE):\n",
    "\n",
    "\n",
    "        max_length = len(normalizeString(targets[i]).split()) \n",
    "        print(\"past convo:\", inputs[i])\n",
    "        print(\"\\n\")\n",
    "\n",
    "        evaluateInput(encoder, decoder, searcher, voc, input_sentence, max_target_len)\n",
    "        print(\"\\n\")\n",
    "        print(\"Correct: \", targets[i])\n",
    "        print(\"\\n\")"
   ]
  },
  {
   "cell_type": "code",
   "execution_count": null,
   "metadata": {},
   "outputs": [],
   "source": [
    "TEST_SIZE = 30\n",
    "\n",
    "encoder.eval()\n",
    "decoder.eval()\n",
    "\n",
    "searcher = GreedySearchDecoder(encoder, decoder)\n",
    "\n",
    "# simulate_with_input(encoder, decoder, searcher, voc)"
   ]
  },
  {
   "cell_type": "code",
   "execution_count": null,
   "metadata": {},
   "outputs": [],
   "source": [
    "# # student only guess (3 obj)\n",
    "# # ask question if  confidence low\n",
    "\n",
    "# is loss same in 100 steps, halt train\n",
    "# in training loop"
   ]
  }
 ],
 "metadata": {
  "kernelspec": {
   "display_name": "Python 3",
   "language": "python",
   "name": "python3"
  },
  "language_info": {
   "codemirror_mode": {
    "name": "ipython",
    "version": 3
   },
   "file_extension": ".py",
   "mimetype": "text/x-python",
   "name": "python",
   "nbconvert_exporter": "python",
   "pygments_lexer": "ipython3",
   "version": "3.6.8"
  }
 },
 "nbformat": 4,
 "nbformat_minor": 2
}
